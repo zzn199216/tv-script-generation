{
 "cells": [
  {
   "cell_type": "markdown",
   "metadata": {
    "deletable": true,
    "editable": true
   },
   "source": [
    "# TV Script Generation\n",
    "In this project, you'll generate your own [Simpsons](https://en.wikipedia.org/wiki/The_Simpsons) TV scripts using RNNs.  You'll be using part of the [Simpsons dataset](https://www.kaggle.com/wcukierski/the-simpsons-by-the-data) of scripts from 27 seasons.  The Neural Network you'll build will generate a new TV script for a scene at [Moe's Tavern](https://simpsonswiki.com/wiki/Moe's_Tavern).\n",
    "## Get the Data\n",
    "The data is already provided for you.  You'll be using a subset of the original dataset.  It consists of only the scenes in Moe's Tavern.  This doesn't include other versions of the tavern, like \"Moe's Cavern\", \"Flaming Moe's\", \"Uncle Moe's Family Feed-Bag\", etc.."
   ]
  },
  {
   "cell_type": "code",
   "execution_count": 1,
   "metadata": {
    "collapsed": false,
    "deletable": true,
    "editable": true
   },
   "outputs": [],
   "source": [
    "\"\"\"\n",
    "DON'T MODIFY ANYTHING IN THIS CELL\n",
    "\"\"\"\n",
    "import helper\n",
    "\n",
    "data_dir = './data/simpsons/moes_tavern_lines.txt'\n",
    "text = helper.load_data(data_dir)\n",
    "# Ignore notice, since we don't use it for analysing the data\n",
    "text = text[81:]"
   ]
  },
  {
   "cell_type": "markdown",
   "metadata": {
    "deletable": true,
    "editable": true
   },
   "source": [
    "## Explore the Data\n",
    "Play around with `view_sentence_range` to view different parts of the data."
   ]
  },
  {
   "cell_type": "code",
   "execution_count": 2,
   "metadata": {
    "collapsed": false,
    "deletable": true,
    "editable": true
   },
   "outputs": [
    {
     "name": "stdout",
     "output_type": "stream",
     "text": [
      "Dataset Stats\n",
      "Roughly the number of unique words: 11492\n",
      "Number of scenes: 262\n",
      "Average number of sentences in each scene: 15.248091603053435\n",
      "Number of lines: 4257\n",
      "Average number of words in each line: 11.50434578341555\n",
      "\n",
      "The sentences 0 to 10:\n",
      "Moe_Szyslak: (INTO PHONE) Moe's Tavern. Where the elite meet to drink.\n",
      "Bart_Simpson: Eh, yeah, hello, is Mike there? Last name, Rotch.\n",
      "Moe_Szyslak: (INTO PHONE) Hold on, I'll check. (TO BARFLIES) Mike Rotch. Mike Rotch. Hey, has anybody seen Mike Rotch, lately?\n",
      "Moe_Szyslak: (INTO PHONE) Listen you little puke. One of these days I'm gonna catch you, and I'm gonna carve my name on your back with an ice pick.\n",
      "Moe_Szyslak: What's the matter Homer? You're not your normal effervescent self.\n",
      "Homer_Simpson: I got my problems, Moe. Give me another one.\n",
      "Moe_Szyslak: Homer, hey, you should not drink to forget your problems.\n",
      "Barney_Gumble: Yeah, you should only drink to enhance your social skills.\n",
      "\n",
      "\n"
     ]
    }
   ],
   "source": [
    "view_sentence_range = (0, 10)\n",
    "\n",
    "\"\"\"\n",
    "DON'T MODIFY ANYTHING IN THIS CELL\n",
    "\"\"\"\n",
    "import numpy as np\n",
    "\n",
    "print('Dataset Stats')\n",
    "print('Roughly the number of unique words: {}'.format(len({word: None for word in text.split()})))\n",
    "scenes = text.split('\\n\\n')\n",
    "print('Number of scenes: {}'.format(len(scenes)))\n",
    "sentence_count_scene = [scene.count('\\n') for scene in scenes]\n",
    "print('Average number of sentences in each scene: {}'.format(np.average(sentence_count_scene)))\n",
    "\n",
    "sentences = [sentence for scene in scenes for sentence in scene.split('\\n')]\n",
    "print('Number of lines: {}'.format(len(sentences)))\n",
    "word_count_sentence = [len(sentence.split()) for sentence in sentences]\n",
    "print('Average number of words in each line: {}'.format(np.average(word_count_sentence)))\n",
    "\n",
    "print()\n",
    "print('The sentences {} to {}:'.format(*view_sentence_range))\n",
    "print('\\n'.join(text.split('\\n')[view_sentence_range[0]:view_sentence_range[1]]))"
   ]
  },
  {
   "cell_type": "markdown",
   "metadata": {
    "deletable": true,
    "editable": true
   },
   "source": [
    "## Implement Preprocessing Functions\n",
    "The first thing to do to any dataset is preprocessing.  Implement the following preprocessing functions below:\n",
    "- Lookup Table\n",
    "- Tokenize Punctuation\n",
    "\n",
    "### Lookup Table\n",
    "To create a word embedding, you first need to transform the words to ids.  In this function, create two dictionaries:\n",
    "- Dictionary to go from the words to an id, we'll call `vocab_to_int`\n",
    "- Dictionary to go from the id to word, we'll call `int_to_vocab`\n",
    "\n",
    "Return these dictionaries in the following tuple `(vocab_to_int, int_to_vocab)`"
   ]
  },
  {
   "cell_type": "code",
   "execution_count": 3,
   "metadata": {
    "collapsed": false,
    "deletable": true,
    "editable": true
   },
   "outputs": [
    {
     "name": "stdout",
     "output_type": "stream",
     "text": [
      "Tests Passed\n"
     ]
    }
   ],
   "source": [
    "import numpy as np\n",
    "import problem_unittests as tests\n",
    "enumerate\n",
    "def create_lookup_tables(text):\n",
    "    \"\"\"\n",
    "    Create lookup tables for vocabulary\n",
    "    :param text: The text of tv scripts split into words\n",
    "    :return: A tuple of dicts (vocab_to_int, int_to_vocab)\n",
    "    \"\"\"\n",
    "    param_text = set(text)\n",
    "    vocab_to_int,int_to_vocab = {},{}\n",
    "    for index,word in enumerate( param_text):\n",
    "        vocab_to_int[word] = index\n",
    "        int_to_vocab[index] = word\n",
    "        \n",
    "    # TODO: Implement Function\n",
    "    return vocab_to_int, int_to_vocab\n",
    "\n",
    "\n",
    "\"\"\"\n",
    "DON'T MODIFY ANYTHING IN THIS CELL THAT IS BELOW THIS LINE\n",
    "\"\"\"\n",
    "tests.test_create_lookup_tables(create_lookup_tables)"
   ]
  },
  {
   "cell_type": "markdown",
   "metadata": {
    "deletable": true,
    "editable": true
   },
   "source": [
    "### Tokenize Punctuation\n",
    "We'll be splitting the script into a word array using spaces as delimiters.  However, punctuations like periods and exclamation marks make it hard for the neural network to distinguish between the word \"bye\" and \"bye!\".\n",
    "\n",
    "Implement the function `token_lookup` to return a dict that will be used to tokenize symbols like \"!\" into \"||Exclamation_Mark||\".  Create a dictionary for the following symbols where the symbol is the key and value is the token:\n",
    "- Period ( . )\n",
    "- Comma ( , )\n",
    "- Quotation Mark ( \" )\n",
    "- Semicolon ( ; )\n",
    "- Exclamation mark ( ! )\n",
    "- Question mark ( ? )\n",
    "- Left Parentheses ( ( )\n",
    "- Right Parentheses ( ) )\n",
    "- Dash ( -- )\n",
    "- Return ( \\n )\n",
    "\n",
    "This dictionary will be used to token the symbols and add the delimiter (space) around it.  This separates the symbols as it's own word, making it easier for the neural network to predict on the next word. Make sure you don't use a token that could be confused as a word. Instead of using the token \"dash\", try using something like \"||dash||\"."
   ]
  },
  {
   "cell_type": "code",
   "execution_count": 4,
   "metadata": {
    "collapsed": false,
    "deletable": true,
    "editable": true
   },
   "outputs": [
    {
     "name": "stdout",
     "output_type": "stream",
     "text": [
      "Tests Passed\n"
     ]
    }
   ],
   "source": [
    "def token_lookup():\n",
    "    \"\"\"\n",
    "    Generate a dict to turn punctuation into a token.\n",
    "    :return: Tokenize dictionary where the key is the punctuation and the value is the token\n",
    "    \"\"\"\n",
    "    # TODO: Implement Function\n",
    "    this_dict = {\n",
    "        '.':'||Period||',\n",
    "        ',':'||Comma||',\n",
    "        '\"':'||Quotation||',\n",
    "        ';':'||Semicolon||',\n",
    "        '!':'||Exclamation||',\n",
    "        '?':'||Question||',\n",
    "        '(':'||LeftParentheses||',\n",
    "        ')':'||RightParentheses||',\n",
    "        '--':'||Dash||',\n",
    "        '\\n':'||Return||'\n",
    "    }\n",
    "    return this_dict\n",
    "\n",
    "\"\"\"\n",
    "DON'T MODIFY ANYTHING IN THIS CELL THAT IS BELOW THIS LINE\n",
    "\"\"\"\n",
    "tests.test_tokenize(token_lookup)"
   ]
  },
  {
   "cell_type": "markdown",
   "metadata": {
    "deletable": true,
    "editable": true
   },
   "source": [
    "## Preprocess all the data and save it\n",
    "Running the code cell below will preprocess all the data and save it to file."
   ]
  },
  {
   "cell_type": "code",
   "execution_count": 5,
   "metadata": {
    "collapsed": false,
    "deletable": true,
    "editable": true
   },
   "outputs": [],
   "source": [
    "\"\"\"\n",
    "DON'T MODIFY ANYTHING IN THIS CELL\n",
    "\"\"\"\n",
    "# Preprocess Training, Validation, and Testing Data\n",
    "helper.preprocess_and_save_data(data_dir, token_lookup, create_lookup_tables)"
   ]
  },
  {
   "cell_type": "markdown",
   "metadata": {
    "deletable": true,
    "editable": true
   },
   "source": [
    "# Check Point\n",
    "This is your first checkpoint. If you ever decide to come back to this notebook or have to restart the notebook, you can start from here. The preprocessed data has been saved to disk."
   ]
  },
  {
   "cell_type": "code",
   "execution_count": 6,
   "metadata": {
    "collapsed": false,
    "deletable": true,
    "editable": true
   },
   "outputs": [],
   "source": [
    "\"\"\"\n",
    "DON'T MODIFY ANYTHING IN THIS CELL\n",
    "\"\"\"\n",
    "import helper\n",
    "import numpy as np\n",
    "import problem_unittests as tests\n",
    "\n",
    "int_text, vocab_to_int, int_to_vocab, token_dict = helper.load_preprocess()"
   ]
  },
  {
   "cell_type": "markdown",
   "metadata": {
    "deletable": true,
    "editable": true
   },
   "source": [
    "## Build the Neural Network\n",
    "You'll build the components necessary to build a RNN by implementing the following functions below:\n",
    "- get_inputs\n",
    "- get_init_cell\n",
    "- get_embed\n",
    "- build_rnn\n",
    "- build_nn\n",
    "- get_batches\n",
    "\n",
    "### Check the Version of TensorFlow and Access to GPU"
   ]
  },
  {
   "cell_type": "code",
   "execution_count": 7,
   "metadata": {
    "collapsed": false
   },
   "outputs": [
    {
     "name": "stdout",
     "output_type": "stream",
     "text": [
      "TensorFlow Version: 1.0.1\n",
      "Default GPU Device: /gpu:0\n"
     ]
    }
   ],
   "source": [
    "\"\"\"\n",
    "DON'T MODIFY ANYTHING IN THIS CELL\n",
    "\"\"\"\n",
    "from distutils.version import LooseVersion\n",
    "import warnings\n",
    "import tensorflow as tf\n",
    "\n",
    "# Check TensorFlow Version\n",
    "assert LooseVersion(tf.__version__) >= LooseVersion('1.0'), 'Please use TensorFlow version 1.0 or newer'\n",
    "print('TensorFlow Version: {}'.format(tf.__version__))\n",
    "\n",
    "# Check for a GPU\n",
    "if not tf.test.gpu_device_name():\n",
    "    warnings.warn('No GPU found. Please use a GPU to train your neural network.')\n",
    "else:\n",
    "    print('Default GPU Device: {}'.format(tf.test.gpu_device_name()))"
   ]
  },
  {
   "cell_type": "markdown",
   "metadata": {},
   "source": [
    "### Input\n",
    "Implement the `get_inputs()` function to create TF Placeholders for the Neural Network.  It should create the following placeholders:\n",
    "- Input text placeholder named \"input\" using the [TF Placeholder](https://www.tensorflow.org/api_docs/python/tf/placeholder) `name` parameter.\n",
    "- Targets placeholder\n",
    "- Learning Rate placeholder\n",
    "\n",
    "Return the placeholders in the following the tuple `(Input, Targets, LearingRate)`"
   ]
  },
  {
   "cell_type": "code",
   "execution_count": 8,
   "metadata": {
    "collapsed": false,
    "deletable": true,
    "editable": true
   },
   "outputs": [
    {
     "name": "stdout",
     "output_type": "stream",
     "text": [
      "Tests Passed\n"
     ]
    }
   ],
   "source": [
    "def get_inputs():\n",
    "    \"\"\"\n",
    "    Create TF Placeholders for input, targets, and learning rate.\n",
    "    :return: Tuple (input, targets, learning rate)\n",
    "    \"\"\"\n",
    "    # TODO: Implement Function\n",
    "    inputs = tf.placeholder(tf.int32, shape=(16, 16), name = 'input')\n",
    "    targets = tf.placeholder(tf.int32, shape=(16, 16))\n",
    "    learning_rate = tf.placeholder(tf.float32)\n",
    "    \n",
    "    return inputs, targets, learning_rate\n",
    "\n",
    "\n",
    "\"\"\"\n",
    "DON'T MODIFY ANYTHING IN THIS CELL THAT IS BELOW THIS LINE\n",
    "\"\"\"\n",
    "tests.test_get_inputs(get_inputs)"
   ]
  },
  {
   "cell_type": "markdown",
   "metadata": {
    "deletable": true,
    "editable": true
   },
   "source": [
    "### Build RNN Cell and Initialize\n",
    "Stack one or more [`BasicLSTMCells`](https://www.tensorflow.org/api_docs/python/tf/contrib/rnn/BasicLSTMCell) in a [`MultiRNNCell`](https://www.tensorflow.org/api_docs/python/tf/contrib/rnn/MultiRNNCell).\n",
    "- The Rnn size should be set using `rnn_size`\n",
    "- Initalize Cell State using the MultiRNNCell's [`zero_state()`](https://www.tensorflow.org/api_docs/python/tf/contrib/rnn/MultiRNNCell#zero_state) function\n",
    "    - Apply the name \"initial_state\" to the initial state using [`tf.identity()`](https://www.tensorflow.org/api_docs/python/tf/identity)\n",
    "\n",
    "Return the cell and initial state in the following tuple `(Cell, InitialState)`"
   ]
  },
  {
   "cell_type": "code",
   "execution_count": 9,
   "metadata": {
    "collapsed": false,
    "deletable": true,
    "editable": true
   },
   "outputs": [
    {
     "name": "stdout",
     "output_type": "stream",
     "text": [
      "Tests Passed\n"
     ]
    }
   ],
   "source": [
    "def get_init_cell(batch_size, rnn_size):\n",
    "    \"\"\"\n",
    "    Create an RNN Cell and initialize it.\n",
    "    :param batch_size: Size of batches\n",
    "    :param rnn_size: Size of RNNs\n",
    "    :return: Tuple (cell, initialize state)\n",
    "    \"\"\"\n",
    "    # TODO: Implement Function\n",
    "    cell = [tf.contrib.rnn.BasicLSTMCell(rnn_size),\n",
    "            tf.contrib.rnn.BasicLSTMCell(rnn_size),\n",
    "            tf.contrib.rnn.BasicLSTMCell(rnn_size),\n",
    "            tf.contrib.rnn.BasicLSTMCell(rnn_size),\n",
    "            tf.contrib.rnn.BasicLSTMCell(rnn_size)]\n",
    "    cell = tf.contrib.rnn.core_rnn_cell.MultiRNNCell(cell,state_is_tuple=True)\n",
    "    zero_state  = cell.zero_state(batch_size, dtype=tf.int32)\n",
    "    \n",
    "\n",
    "    initial_state = tf.identity(zero_state,name='initial_state')\n",
    "    \n",
    "    return cell,initial_state\n",
    "\n",
    "\n",
    "\"\"\"\n",
    "DON'T MODIFY ANYTHING IN THIS CELL THAT IS BELOW THIS LINE\n",
    "\"\"\"\n",
    "tests.test_get_init_cell(get_init_cell)"
   ]
  },
  {
   "cell_type": "markdown",
   "metadata": {
    "deletable": true,
    "editable": true
   },
   "source": [
    "### Word Embedding\n",
    "Apply embedding to `input_data` using TensorFlow.  Return the embedded sequence."
   ]
  },
  {
   "cell_type": "code",
   "execution_count": 10,
   "metadata": {
    "collapsed": false,
    "deletable": true,
    "editable": true
   },
   "outputs": [
    {
     "name": "stdout",
     "output_type": "stream",
     "text": [
      "Tests Passed\n"
     ]
    }
   ],
   "source": [
    "def get_embed(input_data, vocab_size, embed_dim):\n",
    "    \"\"\"\n",
    "    Create embedding for <input_data>.\n",
    "    :param input_data: TF placeholder for text input.\n",
    "    :param vocab_size: Number of words in vocabulary.\n",
    "    :param embed_dim: Number of embedding dimensions\n",
    "    :return: Embedded input.\n",
    "    \"\"\"\n",
    "    # TODO: Implement Function\n",
    "    embedding = tf.Variable(tf.random_uniform((vocab_size, embed_dim), -1, 1))\n",
    "    embed = tf.nn.embedding_lookup(embedding, input_data)\n",
    "    return embed\n",
    "\n",
    "\n",
    "\"\"\"\n",
    "DON'T MODIFY ANYTHING IN THIS CELL THAT IS BELOW THIS LINE\n",
    "\"\"\"\n",
    "tests.test_get_embed(get_embed)"
   ]
  },
  {
   "cell_type": "markdown",
   "metadata": {
    "deletable": true,
    "editable": true
   },
   "source": [
    "### Build RNN\n",
    "You created a RNN Cell in the `get_init_cell()` function.  Time to use the cell to create a RNN.\n",
    "- Build the RNN using the [`tf.nn.dynamic_rnn()`](https://www.tensorflow.org/api_docs/python/tf/nn/dynamic_rnn)\n",
    " - Apply the name \"final_state\" to the final state using [`tf.identity()`](https://www.tensorflow.org/api_docs/python/tf/identity)\n",
    "\n",
    "Return the outputs and final_state state in the following tuple `(Outputs, FinalState)` "
   ]
  },
  {
   "cell_type": "code",
   "execution_count": 11,
   "metadata": {
    "collapsed": false,
    "deletable": true,
    "editable": true
   },
   "outputs": [
    {
     "name": "stdout",
     "output_type": "stream",
     "text": [
      "Tests Passed\n"
     ]
    }
   ],
   "source": [
    "def build_rnn(cell, inputs):\n",
    "    \"\"\"\n",
    "    Create a RNN using a RNN Cell\n",
    "    :param cell: RNN Cell\n",
    "    :param inputs: Input text data\n",
    "    :return: Tuple (Outputs, Final State)\n",
    "    \"\"\"\n",
    "    # TODO: Implement Function\n",
    "    \n",
    "    RNN, final_state = tf.nn.dynamic_rnn(cell, inputs, dtype=tf.float32)\n",
    "    final_state = tf.identity(final_state,'final_state')\n",
    "    \n",
    "    \n",
    "    return RNN, final_state\n",
    "\n",
    "\n",
    "\"\"\"\n",
    "DON'T MODIFY ANYTHING IN THIS CELL THAT IS BELOW THIS LINE\n",
    "\"\"\"\n",
    "tests.test_build_rnn(build_rnn)"
   ]
  },
  {
   "cell_type": "markdown",
   "metadata": {
    "deletable": true,
    "editable": true
   },
   "source": [
    "### Build the Neural Network\n",
    "Apply the functions you implemented above to:\n",
    "- Apply embedding to `input_data` using your `get_embed(input_data, vocab_size, embed_dim)` function.\n",
    "- Build RNN using `cell` and your `build_rnn(cell, inputs)` function.\n",
    "- Apply a fully connected layer with a linear activation and `vocab_size` as the number of outputs.\n",
    "\n",
    "Return the logits and final state in the following tuple (Logits, FinalState) "
   ]
  },
  {
   "cell_type": "code",
   "execution_count": 12,
   "metadata": {
    "collapsed": false,
    "deletable": true,
    "editable": true,
    "scrolled": false
   },
   "outputs": [
    {
     "name": "stdout",
     "output_type": "stream",
     "text": [
      "Tests Passed\n"
     ]
    }
   ],
   "source": [
    "def build_nn(cell, rnn_size, input_data, vocab_size):\n",
    "    \"\"\"\n",
    "    Build part of the neural network\n",
    "    :param cell: RNN cell\n",
    "    :param rnn_size: Size of rnns\n",
    "    :param input_data: Input data\n",
    "    :param vocab_size: Vocabulary size\n",
    "    :return: Tuple (Logits, FinalState)\n",
    "    \"\"\"\n",
    "    # TODO: Implement Function\n",
    "    input_data = get_embed(input_data, vocab_size, rnn_size)\n",
    "    outputs , final_state = build_rnn( cell , input_data )\n",
    "#     outputs = tf.reshape(outputs,[-1, rnn_size])\n",
    "    softmax_w = tf.Variable(tf.truncated_normal(( input_data.get_shape().as_list()[0],rnn_size,vocab_size ),stddev=.1))\n",
    "#     print(softmax_w.get_shape())\n",
    "    softmax_b = tf.Variable(tf.zeros(vocab_size))\n",
    "#     print(softmax_w.get_shape())\n",
    "    \n",
    "    Logits = tf.matmul(outputs,softmax_w)+softmax_b\n",
    "#     Logits = tf.nn.softmax(Logits)\n",
    "\n",
    "    return Logits, final_state\n",
    "\n",
    "\n",
    "\"\"\"\n",
    "DON'T MODIFY ANYTHING IN THIS CELL THAT IS BELOW THIS LINE\n",
    "\"\"\"\n",
    "tests.test_build_nn(build_nn)"
   ]
  },
  {
   "cell_type": "markdown",
   "metadata": {
    "deletable": true,
    "editable": true
   },
   "source": [
    "### Batches\n",
    "Implement `get_batches` to create batches of input and targets using `int_text`.  The batches should be a Numpy array with the shape `(number of batches, 2, batch size, sequence length)`. Each batch contains two elements:\n",
    "- The first element is a single batch of **input** with the shape `[batch size, sequence length]`\n",
    "- The second element is a single batch of **targets** with the shape `[batch size, sequence length]`\n",
    "\n",
    "If you can't fill the last batch with enough data, drop the last batch.\n",
    "\n",
    "For exmple, `get_batches([1, 2, 3, 4, 5, 6, 7, 8, 9, 10, 11, 12, 13, 14, 15], 2, 3)` would return a Numpy array of the following:\n",
    "```\n",
    "[\n",
    "  # First Batch\n",
    "  [\n",
    "    # Batch of Input\n",
    "    [[ 1  2  3], [ 7  8  9]],\n",
    "    # Batch of targets\n",
    "    [[ 2  3  4], [ 8  9 10]]\n",
    "  ],\n",
    " \n",
    "  # Second Batch\n",
    "  [\n",
    "    # Batch of Input\n",
    "    [[ 4  5  6], [10 11 12]],\n",
    "    # Batch of targets\n",
    "    [[ 5  6  7], [11 12 13]]\n",
    "  ]\n",
    "]\n",
    "```"
   ]
  },
  {
   "cell_type": "code",
   "execution_count": 14,
   "metadata": {
    "collapsed": false,
    "deletable": true,
    "editable": true
   },
   "outputs": [
    {
     "name": "stdout",
     "output_type": "stream",
     "text": [
      "Tests Passed\n"
     ]
    }
   ],
   "source": [
    "def get_batches(int_text, batch_size, seq_length):\n",
    "    \"\"\"\n",
    "    Return batches of input and target\n",
    "    :param int_text: Text with the words replaced by their ids\n",
    "    :param batch_size: The size of batch\n",
    "    :param seq_length: The length of sequence\n",
    "    :return: Batches as a Numpy array\n",
    "    \"\"\"\n",
    "    # TODO: Implement Function\n",
    "    batches = []\n",
    "    for this_batch_start in range(len(int_text)//(batch_size * seq_length)):\n",
    "        raw_batches_1 = []\n",
    "        raw_batches_2 = []\n",
    "        for i in range(batch_size):\n",
    "            start_index = i * seq_length\n",
    "            end_index = start_index + seq_length\n",
    "            raw_batches_1.append((int_text[start_index:end_index]))\n",
    "            raw_batches_2.append((int_text[start_index+1:end_index+1]))\n",
    "            \n",
    "        batches.append([raw_batches_1,raw_batches_2])\n",
    "        \n",
    "    return (np.array(batches))\n",
    "\n",
    "\n",
    "\"\"\"\n",
    "DON'T MODIFY ANYTHING IN THIS CELL THAT IS BELOW THIS LINE\n",
    "\"\"\"\n",
    "tests.test_get_batches(get_batches)"
   ]
  },
  {
   "cell_type": "markdown",
   "metadata": {
    "deletable": true,
    "editable": true
   },
   "source": [
    "## Neural Network Training\n",
    "### Hyperparameters\n",
    "Tune the following parameters:\n",
    "\n",
    "- Set `num_epochs` to the number of epochs.\n",
    "- Set `batch_size` to the batch size.\n",
    "- Set `rnn_size` to the size of the RNNs.\n",
    "- Set `seq_length` to the length of sequence.\n",
    "- Set `learning_rate` to the learning rate.\n",
    "- Set `show_every_n_batches` to the number of batches the neural network should print progress."
   ]
  },
  {
   "cell_type": "code",
   "execution_count": 16,
   "metadata": {
    "collapsed": true,
    "deletable": true,
    "editable": true
   },
   "outputs": [],
   "source": [
    "# Number of Epochs\n",
    "num_epochs = 99\n",
    "# Batch Size\n",
    "batch_size = 16\n",
    "# RNN Size\n",
    "rnn_size = 64\n",
    "# Sequence Length\n",
    "seq_length = 16\n",
    "# Learning Rate\n",
    "learning_rate = .0003\n",
    "# Show stats for every n number of batches\n",
    "show_every_n_batches = 128\n",
    "\n",
    "\"\"\"\n",
    "DON'T MODIFY ANYTHING IN THIS CELL THAT IS BELOW THIS LINE\n",
    "\"\"\"\n",
    "save_dir = './save'"
   ]
  },
  {
   "cell_type": "markdown",
   "metadata": {
    "deletable": true,
    "editable": true
   },
   "source": [
    "### Build the Graph\n",
    "Build the graph using the neural network you implemented."
   ]
  },
  {
   "cell_type": "code",
   "execution_count": 17,
   "metadata": {
    "collapsed": false,
    "deletable": true,
    "editable": true
   },
   "outputs": [],
   "source": [
    "\"\"\"\n",
    "DON'T MODIFY ANYTHING IN THIS CELL\n",
    "\"\"\"\n",
    "from tensorflow.contrib import seq2seq\n",
    "\n",
    "train_graph = tf.Graph()\n",
    "with train_graph.as_default():\n",
    "    vocab_size = len(int_to_vocab)\n",
    "    input_text, targets, lr = get_inputs()\n",
    "    input_data_shape = tf.shape(input_text)\n",
    "    cell, initial_state = get_init_cell(input_data_shape[0], rnn_size)\n",
    "    logits, final_state = build_nn(cell, rnn_size, input_text, vocab_size)\n",
    "\n",
    "    # Probabilities for generating words\n",
    "    probs = tf.nn.softmax(logits, name='probs')\n",
    "\n",
    "    # Loss function\n",
    "    cost = seq2seq.sequence_loss(\n",
    "        logits,\n",
    "        targets,\n",
    "        tf.ones([input_data_shape[0], input_data_shape[1]]))\n",
    "\n",
    "    # Optimizer\n",
    "    optimizer = tf.train.AdamOptimizer(lr)\n",
    "\n",
    "    # Gradient Clipping\n",
    "    gradients = optimizer.compute_gradients(cost)\n",
    "    capped_gradients = [(tf.clip_by_value(grad, -1., 1.), var) for grad, var in gradients]\n",
    "    train_op = optimizer.apply_gradients(capped_gradients)"
   ]
  },
  {
   "cell_type": "markdown",
   "metadata": {
    "deletable": true,
    "editable": true
   },
   "source": [
    "## Train\n",
    "Train the neural network on the preprocessed data.  If you have a hard time getting a good loss, check the [forms](https://discussions.udacity.com/) to see if anyone is having the same problem."
   ]
  },
  {
   "cell_type": "code",
   "execution_count": 18,
   "metadata": {
    "collapsed": false,
    "deletable": true,
    "editable": true,
    "scrolled": false
   },
   "outputs": [
    {
     "name": "stdout",
     "output_type": "stream",
     "text": [
      "Epoch   0 Batch    0/269   train_loss = 8.822\n",
      "Epoch   0 Batch  128/269   train_loss = 3.845\n",
      "Epoch   0 Batch  256/269   train_loss = 2.744\n",
      "Epoch   1 Batch  115/269   train_loss = 2.581\n",
      "Epoch   1 Batch  243/269   train_loss = 2.454\n",
      "Epoch   2 Batch  102/269   train_loss = 2.342\n",
      "Epoch   2 Batch  230/269   train_loss = 2.217\n",
      "Epoch   3 Batch   89/269   train_loss = 2.113\n",
      "Epoch   3 Batch  217/269   train_loss = 2.023\n",
      "Epoch   4 Batch   76/269   train_loss = 1.937\n",
      "Epoch   4 Batch  204/269   train_loss = 1.863\n",
      "Epoch   5 Batch   63/269   train_loss = 1.793\n",
      "Epoch   5 Batch  191/269   train_loss = 1.671\n",
      "Epoch   6 Batch   50/269   train_loss = 1.551\n",
      "Epoch   6 Batch  178/269   train_loss = 1.466\n",
      "Epoch   7 Batch   37/269   train_loss = 1.372\n",
      "Epoch   7 Batch  165/269   train_loss = 1.289\n",
      "Epoch   8 Batch   24/269   train_loss = 1.220\n",
      "Epoch   8 Batch  152/269   train_loss = 1.147\n",
      "Epoch   9 Batch   11/269   train_loss = 1.071\n",
      "Epoch   9 Batch  139/269   train_loss = 0.995\n",
      "Epoch   9 Batch  267/269   train_loss = 0.929\n",
      "Epoch  10 Batch  126/269   train_loss = 0.872\n",
      "Epoch  10 Batch  254/269   train_loss = 0.807\n",
      "Epoch  11 Batch  113/269   train_loss = 0.744\n",
      "Epoch  11 Batch  241/269   train_loss = 0.692\n",
      "Epoch  12 Batch  100/269   train_loss = 0.640\n",
      "Epoch  12 Batch  228/269   train_loss = 0.582\n",
      "Epoch  13 Batch   87/269   train_loss = 0.532\n",
      "Epoch  13 Batch  215/269   train_loss = 0.486\n",
      "Epoch  14 Batch   74/269   train_loss = 0.443\n",
      "Epoch  14 Batch  202/269   train_loss = 0.396\n",
      "Epoch  15 Batch   61/269   train_loss = 0.357\n",
      "Epoch  15 Batch  189/269   train_loss = 0.319\n",
      "Epoch  16 Batch   48/269   train_loss = 0.285\n",
      "Epoch  16 Batch  176/269   train_loss = 0.255\n",
      "Epoch  17 Batch   35/269   train_loss = 0.229\n",
      "Epoch  17 Batch  163/269   train_loss = 0.205\n",
      "Epoch  18 Batch   22/269   train_loss = 0.184\n",
      "Epoch  18 Batch  150/269   train_loss = 0.165\n",
      "Epoch  19 Batch    9/269   train_loss = 0.149\n",
      "Epoch  19 Batch  137/269   train_loss = 0.136\n",
      "Epoch  19 Batch  265/269   train_loss = 0.123\n",
      "Epoch  20 Batch  124/269   train_loss = 0.113\n",
      "Epoch  20 Batch  252/269   train_loss = 0.103\n",
      "Epoch  21 Batch  111/269   train_loss = 0.094\n",
      "Epoch  21 Batch  239/269   train_loss = 0.086\n",
      "Epoch  22 Batch   98/269   train_loss = 0.079\n",
      "Epoch  22 Batch  226/269   train_loss = 0.072\n",
      "Epoch  23 Batch   85/269   train_loss = 0.065\n",
      "Epoch  23 Batch  213/269   train_loss = 0.058\n",
      "Epoch  24 Batch   72/269   train_loss = 0.052\n",
      "Epoch  24 Batch  200/269   train_loss = 0.047\n",
      "Epoch  25 Batch   59/269   train_loss = 0.042\n",
      "Epoch  25 Batch  187/269   train_loss = 0.038\n",
      "Epoch  26 Batch   46/269   train_loss = 0.034\n",
      "Epoch  26 Batch  174/269   train_loss = 0.031\n",
      "Epoch  27 Batch   33/269   train_loss = 0.028\n",
      "Epoch  27 Batch  161/269   train_loss = 0.025\n",
      "Epoch  28 Batch   20/269   train_loss = 0.023\n",
      "Epoch  28 Batch  148/269   train_loss = 0.021\n",
      "Epoch  29 Batch    7/269   train_loss = 0.019\n",
      "Epoch  29 Batch  135/269   train_loss = 0.017\n",
      "Epoch  29 Batch  263/269   train_loss = 0.016\n",
      "Epoch  30 Batch  122/269   train_loss = 0.014\n",
      "Epoch  30 Batch  250/269   train_loss = 0.013\n",
      "Epoch  31 Batch  109/269   train_loss = 0.012\n",
      "Epoch  31 Batch  237/269   train_loss = 0.011\n",
      "Epoch  32 Batch   96/269   train_loss = 0.010\n",
      "Epoch  32 Batch  224/269   train_loss = 0.009\n",
      "Epoch  33 Batch   83/269   train_loss = 0.008\n",
      "Epoch  33 Batch  211/269   train_loss = 0.007\n",
      "Epoch  34 Batch   70/269   train_loss = 0.007\n",
      "Epoch  34 Batch  198/269   train_loss = 0.006\n",
      "Epoch  35 Batch   57/269   train_loss = 0.005\n",
      "Epoch  35 Batch  185/269   train_loss = 0.005\n",
      "Epoch  36 Batch   44/269   train_loss = 0.004\n",
      "Epoch  36 Batch  172/269   train_loss = 0.004\n",
      "Epoch  37 Batch   31/269   train_loss = 0.004\n",
      "Epoch  37 Batch  159/269   train_loss = 0.003\n",
      "Epoch  38 Batch   18/269   train_loss = 0.003\n",
      "Epoch  38 Batch  146/269   train_loss = 0.003\n",
      "Epoch  39 Batch    5/269   train_loss = 0.003\n",
      "Epoch  39 Batch  133/269   train_loss = 0.002\n",
      "Epoch  39 Batch  261/269   train_loss = 0.002\n",
      "Epoch  40 Batch  120/269   train_loss = 0.002\n",
      "Epoch  40 Batch  248/269   train_loss = 0.002\n",
      "Epoch  41 Batch  107/269   train_loss = 0.002\n",
      "Epoch  41 Batch  235/269   train_loss = 0.002\n",
      "Epoch  42 Batch   94/269   train_loss = 0.001\n",
      "Epoch  42 Batch  222/269   train_loss = 0.001\n",
      "Epoch  43 Batch   81/269   train_loss = 0.001\n",
      "Epoch  43 Batch  209/269   train_loss = 0.001\n",
      "Epoch  44 Batch   68/269   train_loss = 0.001\n",
      "Epoch  44 Batch  196/269   train_loss = 0.001\n",
      "Epoch  45 Batch   55/269   train_loss = 0.001\n",
      "Epoch  45 Batch  183/269   train_loss = 0.001\n",
      "Epoch  46 Batch   42/269   train_loss = 0.001\n",
      "Epoch  46 Batch  170/269   train_loss = 0.001\n",
      "Epoch  47 Batch   29/269   train_loss = 0.001\n",
      "Epoch  47 Batch  157/269   train_loss = 0.001\n",
      "Epoch  48 Batch   16/269   train_loss = 0.001\n",
      "Epoch  48 Batch  144/269   train_loss = 0.001\n",
      "Epoch  49 Batch    3/269   train_loss = 0.001\n",
      "Epoch  49 Batch  131/269   train_loss = 0.000\n",
      "Epoch  49 Batch  259/269   train_loss = 0.000\n",
      "Epoch  50 Batch  118/269   train_loss = 0.000\n",
      "Epoch  50 Batch  246/269   train_loss = 0.000\n",
      "Epoch  51 Batch  105/269   train_loss = 0.000\n",
      "Epoch  51 Batch  233/269   train_loss = 0.000\n",
      "Epoch  52 Batch   92/269   train_loss = 0.000\n",
      "Epoch  52 Batch  220/269   train_loss = 0.000\n",
      "Epoch  53 Batch   79/269   train_loss = 0.000\n",
      "Epoch  53 Batch  207/269   train_loss = 0.000\n",
      "Epoch  54 Batch   66/269   train_loss = 0.000\n",
      "Epoch  54 Batch  194/269   train_loss = 0.000\n",
      "Epoch  55 Batch   53/269   train_loss = 0.000\n",
      "Epoch  55 Batch  181/269   train_loss = 0.000\n",
      "Epoch  56 Batch   40/269   train_loss = 0.000\n",
      "Epoch  56 Batch  168/269   train_loss = 0.000\n",
      "Epoch  57 Batch   27/269   train_loss = 0.000\n",
      "Epoch  57 Batch  155/269   train_loss = 0.000\n",
      "Epoch  58 Batch   14/269   train_loss = 0.000\n",
      "Epoch  58 Batch  142/269   train_loss = 0.000\n",
      "Epoch  59 Batch    1/269   train_loss = 0.000\n",
      "Epoch  59 Batch  129/269   train_loss = 0.000\n",
      "Epoch  59 Batch  257/269   train_loss = 0.000\n",
      "Epoch  60 Batch  116/269   train_loss = 0.000\n",
      "Epoch  60 Batch  244/269   train_loss = 0.000\n",
      "Epoch  61 Batch  103/269   train_loss = 0.000\n",
      "Epoch  61 Batch  231/269   train_loss = 0.000\n",
      "Epoch  62 Batch   90/269   train_loss = 0.000\n",
      "Epoch  62 Batch  218/269   train_loss = 0.000\n",
      "Epoch  63 Batch   77/269   train_loss = 0.000\n",
      "Epoch  63 Batch  205/269   train_loss = 0.000\n",
      "Epoch  64 Batch   64/269   train_loss = 0.000\n",
      "Epoch  64 Batch  192/269   train_loss = 0.000\n",
      "Epoch  65 Batch   51/269   train_loss = 0.000\n",
      "Epoch  65 Batch  179/269   train_loss = 0.000\n",
      "Epoch  66 Batch   38/269   train_loss = 0.000\n",
      "Epoch  66 Batch  166/269   train_loss = 0.000\n",
      "Epoch  67 Batch   25/269   train_loss = 0.000\n",
      "Epoch  67 Batch  153/269   train_loss = 0.000\n",
      "Epoch  68 Batch   12/269   train_loss = 0.000\n",
      "Epoch  68 Batch  140/269   train_loss = 0.000\n",
      "Epoch  68 Batch  268/269   train_loss = 0.000\n",
      "Epoch  69 Batch  127/269   train_loss = 0.000\n",
      "Epoch  69 Batch  255/269   train_loss = 0.000\n",
      "Epoch  70 Batch  114/269   train_loss = 0.000\n",
      "Epoch  70 Batch  242/269   train_loss = 0.000\n",
      "Epoch  71 Batch  101/269   train_loss = 0.000\n",
      "Epoch  71 Batch  229/269   train_loss = 0.000\n",
      "Epoch  72 Batch   88/269   train_loss = 0.000\n",
      "Epoch  72 Batch  216/269   train_loss = 0.000\n",
      "Epoch  73 Batch   75/269   train_loss = 0.000\n",
      "Epoch  73 Batch  203/269   train_loss = 0.000\n",
      "Epoch  74 Batch   62/269   train_loss = 0.000\n",
      "Epoch  74 Batch  190/269   train_loss = 0.000\n",
      "Epoch  75 Batch   49/269   train_loss = 0.000\n",
      "Epoch  75 Batch  177/269   train_loss = 0.000\n",
      "Epoch  76 Batch   36/269   train_loss = 0.000\n",
      "Epoch  76 Batch  164/269   train_loss = 0.000\n",
      "Epoch  77 Batch   23/269   train_loss = 0.000\n",
      "Epoch  77 Batch  151/269   train_loss = 0.000\n",
      "Epoch  78 Batch   10/269   train_loss = 0.000\n",
      "Epoch  78 Batch  138/269   train_loss = 0.000\n",
      "Epoch  78 Batch  266/269   train_loss = 0.000\n",
      "Epoch  79 Batch  125/269   train_loss = 0.000\n",
      "Epoch  79 Batch  253/269   train_loss = 0.000\n",
      "Epoch  80 Batch  112/269   train_loss = 0.000\n",
      "Epoch  80 Batch  240/269   train_loss = 0.000\n",
      "Epoch  81 Batch   99/269   train_loss = 0.000\n",
      "Epoch  81 Batch  227/269   train_loss = 0.000\n",
      "Epoch  82 Batch   86/269   train_loss = 0.000\n",
      "Epoch  82 Batch  214/269   train_loss = 0.000\n",
      "Epoch  83 Batch   73/269   train_loss = 0.000\n",
      "Epoch  83 Batch  201/269   train_loss = 0.000\n",
      "Epoch  84 Batch   60/269   train_loss = 0.000\n",
      "Epoch  84 Batch  188/269   train_loss = 0.000\n",
      "Epoch  85 Batch   47/269   train_loss = 0.000\n",
      "Epoch  85 Batch  175/269   train_loss = 0.000\n",
      "Epoch  86 Batch   34/269   train_loss = 0.000\n",
      "Epoch  86 Batch  162/269   train_loss = 0.000\n",
      "Epoch  87 Batch   21/269   train_loss = 0.000\n",
      "Epoch  87 Batch  149/269   train_loss = 0.000\n",
      "Epoch  88 Batch    8/269   train_loss = 0.000\n",
      "Epoch  88 Batch  136/269   train_loss = 0.000\n",
      "Epoch  88 Batch  264/269   train_loss = 0.000\n",
      "Epoch  89 Batch  123/269   train_loss = 0.000\n",
      "Epoch  89 Batch  251/269   train_loss = 0.000\n",
      "Epoch  90 Batch  110/269   train_loss = 0.000\n",
      "Epoch  90 Batch  238/269   train_loss = 0.000\n",
      "Epoch  91 Batch   97/269   train_loss = 0.000\n",
      "Epoch  91 Batch  225/269   train_loss = 0.000\n",
      "Epoch  92 Batch   84/269   train_loss = 0.000\n",
      "Epoch  92 Batch  212/269   train_loss = 0.000\n",
      "Epoch  93 Batch   71/269   train_loss = 0.000\n",
      "Epoch  93 Batch  199/269   train_loss = 0.000\n",
      "Epoch  94 Batch   58/269   train_loss = 0.000\n",
      "Epoch  94 Batch  186/269   train_loss = 0.000\n",
      "Epoch  95 Batch   45/269   train_loss = 0.000\n",
      "Epoch  95 Batch  173/269   train_loss = 0.000\n",
      "Epoch  96 Batch   32/269   train_loss = 0.000\n",
      "Epoch  96 Batch  160/269   train_loss = 0.000\n",
      "Epoch  97 Batch   19/269   train_loss = 0.000\n",
      "Epoch  97 Batch  147/269   train_loss = 0.000\n",
      "Epoch  98 Batch    6/269   train_loss = 0.000\n",
      "Epoch  98 Batch  134/269   train_loss = 0.000\n",
      "Epoch  98 Batch  262/269   train_loss = 0.000\n",
      "Model Trained and Saved\n"
     ]
    }
   ],
   "source": [
    "\"\"\"\n",
    "DON'T MODIFY ANYTHING IN THIS CELL\n",
    "\"\"\"\n",
    "batches = get_batches(int_text, batch_size, seq_length)\n",
    "\n",
    "with tf.Session(graph=train_graph) as sess:\n",
    "    sess.run(tf.global_variables_initializer())\n",
    "\n",
    "    for epoch_i in range(num_epochs):\n",
    "        state = sess.run(initial_state, {input_text: batches[0][0]})\n",
    "\n",
    "        for batch_i, (x, y) in enumerate(batches):\n",
    "            feed = {\n",
    "                input_text: x,\n",
    "                targets: y,\n",
    "                initial_state: state,\n",
    "                lr: learning_rate}\n",
    "            train_loss, state, _ = sess.run([cost, final_state, train_op], feed)\n",
    "\n",
    "            # Show every <show_every_n_batches> batches\n",
    "            if (epoch_i * len(batches) + batch_i) % show_every_n_batches == 0:\n",
    "                print('Epoch {:>3} Batch {:>4}/{}   train_loss = {:.3f}'.format(\n",
    "                    epoch_i,\n",
    "                    batch_i,\n",
    "                    len(batches),\n",
    "                    train_loss))\n",
    "\n",
    "    # Save Model\n",
    "    saver = tf.train.Saver()\n",
    "    saver.save(sess, save_dir)\n",
    "    print('Model Trained and Saved')"
   ]
  },
  {
   "cell_type": "markdown",
   "metadata": {
    "deletable": true,
    "editable": true
   },
   "source": [
    "## Save Parameters\n",
    "Save `seq_length` and `save_dir` for generating a new TV script."
   ]
  },
  {
   "cell_type": "code",
   "execution_count": 19,
   "metadata": {
    "collapsed": false,
    "deletable": true,
    "editable": true
   },
   "outputs": [],
   "source": [
    "\"\"\"\n",
    "DON'T MODIFY ANYTHING IN THIS CELL\n",
    "\"\"\"\n",
    "# Save parameters for checkpoint\n",
    "helper.save_params((seq_length, save_dir))"
   ]
  },
  {
   "cell_type": "markdown",
   "metadata": {
    "deletable": true,
    "editable": true
   },
   "source": [
    "# Checkpoint"
   ]
  },
  {
   "cell_type": "code",
   "execution_count": 21,
   "metadata": {
    "collapsed": false,
    "deletable": true,
    "editable": true
   },
   "outputs": [],
   "source": [
    "\"\"\"\n",
    "DON'T MODIFY ANYTHING IN THIS CELL\n",
    "\"\"\"\n",
    "import tensorflow as tf\n",
    "import numpy as np\n",
    "import helper\n",
    "import problem_unittests as tests\n",
    "\n",
    "_, vocab_to_int, int_to_vocab, token_dict = helper.load_preprocess()\n",
    "seq_length, load_dir = helper.load_params()"
   ]
  },
  {
   "cell_type": "markdown",
   "metadata": {
    "deletable": true,
    "editable": true
   },
   "source": [
    "## Implement Generate Functions\n",
    "### Get Tensors\n",
    "Get tensors from `loaded_graph` using the function [`get_tensor_by_name()`](https://www.tensorflow.org/api_docs/python/tf/Graph#get_tensor_by_name).  Get the tensors using the following names:\n",
    "- \"input:0\"\n",
    "- \"initial_state:0\"\n",
    "- \"final_state:0\"\n",
    "- \"probs:0\"\n",
    "\n",
    "Return the tensors in the following tuple `(InputTensor, InitialStateTensor, FinalStateTensor, ProbsTensor)` "
   ]
  },
  {
   "cell_type": "code",
   "execution_count": 23,
   "metadata": {
    "collapsed": false,
    "deletable": true,
    "editable": true
   },
   "outputs": [
    {
     "name": "stdout",
     "output_type": "stream",
     "text": [
      "Tests Passed\n"
     ]
    }
   ],
   "source": [
    "def get_tensors(loaded_graph):\n",
    "    \"\"\"\n",
    "    Get input, initial state, final state, and probabilities tensor from <loaded_graph>\n",
    "    :param loaded_graph: TensorFlow graph loaded from file\n",
    "    :return: Tuple (InputTensor, InitialStateTensor, FinalStateTensor, ProbsTensor)\n",
    "    \"\"\"\n",
    "    # TODO: Implement Function\n",
    "    input_0 = (loaded_graph.get_tensor_by_name(\"input:0\"))\n",
    "    initial_state_0 = (loaded_graph.get_tensor_by_name(\"initial_state:0\"))\n",
    "    final_state_0 = (loaded_graph.get_tensor_by_name(\"final_state:0\"))\n",
    "    probs_0 = (loaded_graph.get_tensor_by_name(\"probs:0\"))\n",
    "    return (input_0, initial_state_0, final_state_0, probs_0)\n",
    "\n",
    "\n",
    "\"\"\"\n",
    "DON'T MODIFY ANYTHING IN THIS CELL THAT IS BELOW THIS LINE\n",
    "\"\"\"\n",
    "tests.test_get_tensors(get_tensors)"
   ]
  },
  {
   "cell_type": "markdown",
   "metadata": {
    "deletable": true,
    "editable": true
   },
   "source": [
    "### Choose Word\n",
    "Implement the `pick_word()` function to select the next word using `probabilities`."
   ]
  },
  {
   "cell_type": "code",
   "execution_count": 24,
   "metadata": {
    "collapsed": false,
    "deletable": true,
    "editable": true
   },
   "outputs": [
    {
     "name": "stdout",
     "output_type": "stream",
     "text": [
      "Tests Passed\n"
     ]
    }
   ],
   "source": [
    "def pick_word(probabilities, int_to_vocab):\n",
    "    \"\"\"\n",
    "    Pick the next word in the generated text\n",
    "    :param probabilities: Probabilites of the next word\n",
    "    :param int_to_vocab: Dictionary of word ids as the keys and words as the values\n",
    "    :return: String of the predicted word\n",
    "    \"\"\"\n",
    "    # TODO: Implement Function\n",
    "    position = (np.where(probabilities == max(probabilities)))\n",
    "    return int_to_vocab[position[0][0]]\n",
    "\n",
    "\n",
    "\"\"\"\n",
    "DON'T MODIFY ANYTHING IN THIS CELL THAT IS BELOW THIS LINE\n",
    "\"\"\"\n",
    "tests.test_pick_word(pick_word)"
   ]
  },
  {
   "cell_type": "markdown",
   "metadata": {
    "deletable": true,
    "editable": true
   },
   "source": [
    "## Generate TV Script\n",
    "This will generate the TV script for you.  Set `gen_length` to the length of TV script you want to generate."
   ]
  },
  {
   "cell_type": "code",
   "execution_count": 27,
   "metadata": {
    "collapsed": false
   },
   "outputs": [
    {
     "data": {
      "text/plain": [
       "<tf.Tensor 'input:0' shape=(16, 16) dtype=int32>"
      ]
     },
     "execution_count": 27,
     "metadata": {},
     "output_type": "execute_result"
    }
   ],
   "source": [
    "loaded_graph.get_tensor_by_name('input:0')"
   ]
  },
  {
   "cell_type": "code",
   "execution_count": 25,
   "metadata": {
    "collapsed": false,
    "deletable": true,
    "editable": true
   },
   "outputs": [
    {
     "ename": "ValueError",
     "evalue": "Cannot feed value of shape (1, 1) for Tensor 'input:0', which has shape '(16, 16)'",
     "output_type": "error",
     "traceback": [
      "\u001b[0;31m---------------------------------------------------------------------------\u001b[0m",
      "\u001b[0;31mValueError\u001b[0m                                Traceback (most recent call last)",
      "\u001b[0;32m<ipython-input-25-29a538825d86>\u001b[0m in \u001b[0;36m<module>\u001b[0;34m()\u001b[0m\n\u001b[1;32m     17\u001b[0m     \u001b[1;31m# Sentences generation setup\u001b[0m\u001b[1;33m\u001b[0m\u001b[1;33m\u001b[0m\u001b[0m\n\u001b[1;32m     18\u001b[0m     \u001b[0mgen_sentences\u001b[0m \u001b[1;33m=\u001b[0m \u001b[1;33m[\u001b[0m\u001b[0mprime_word\u001b[0m \u001b[1;33m+\u001b[0m \u001b[1;34m':'\u001b[0m\u001b[1;33m]\u001b[0m\u001b[1;33m\u001b[0m\u001b[0m\n\u001b[0;32m---> 19\u001b[0;31m     \u001b[0mprev_state\u001b[0m \u001b[1;33m=\u001b[0m \u001b[0msess\u001b[0m\u001b[1;33m.\u001b[0m\u001b[0mrun\u001b[0m\u001b[1;33m(\u001b[0m\u001b[0minitial_state\u001b[0m\u001b[1;33m,\u001b[0m \u001b[1;33m{\u001b[0m\u001b[0minput_text\u001b[0m\u001b[1;33m:\u001b[0m \u001b[0mnp\u001b[0m\u001b[1;33m.\u001b[0m\u001b[0marray\u001b[0m\u001b[1;33m(\u001b[0m\u001b[1;33m[\u001b[0m\u001b[1;33m[\u001b[0m\u001b[1;36m1\u001b[0m\u001b[1;33m]\u001b[0m\u001b[1;33m]\u001b[0m\u001b[1;33m)\u001b[0m\u001b[1;33m}\u001b[0m\u001b[1;33m)\u001b[0m\u001b[1;33m\u001b[0m\u001b[0m\n\u001b[0m\u001b[1;32m     20\u001b[0m \u001b[1;33m\u001b[0m\u001b[0m\n\u001b[1;32m     21\u001b[0m     \u001b[1;31m# Generate sentences\u001b[0m\u001b[1;33m\u001b[0m\u001b[1;33m\u001b[0m\u001b[0m\n",
      "\u001b[0;32mC:\\Users\\frank\\Anaconda2\\envs\\tflearn\\lib\\site-packages\\tensorflow\\python\\client\\session.py\u001b[0m in \u001b[0;36mrun\u001b[0;34m(self, fetches, feed_dict, options, run_metadata)\u001b[0m\n\u001b[1;32m    765\u001b[0m     \u001b[1;32mtry\u001b[0m\u001b[1;33m:\u001b[0m\u001b[1;33m\u001b[0m\u001b[0m\n\u001b[1;32m    766\u001b[0m       result = self._run(None, fetches, feed_dict, options_ptr,\n\u001b[0;32m--> 767\u001b[0;31m                          run_metadata_ptr)\n\u001b[0m\u001b[1;32m    768\u001b[0m       \u001b[1;32mif\u001b[0m \u001b[0mrun_metadata\u001b[0m\u001b[1;33m:\u001b[0m\u001b[1;33m\u001b[0m\u001b[0m\n\u001b[1;32m    769\u001b[0m         \u001b[0mproto_data\u001b[0m \u001b[1;33m=\u001b[0m \u001b[0mtf_session\u001b[0m\u001b[1;33m.\u001b[0m\u001b[0mTF_GetBuffer\u001b[0m\u001b[1;33m(\u001b[0m\u001b[0mrun_metadata_ptr\u001b[0m\u001b[1;33m)\u001b[0m\u001b[1;33m\u001b[0m\u001b[0m\n",
      "\u001b[0;32mC:\\Users\\frank\\Anaconda2\\envs\\tflearn\\lib\\site-packages\\tensorflow\\python\\client\\session.py\u001b[0m in \u001b[0;36m_run\u001b[0;34m(self, handle, fetches, feed_dict, options, run_metadata)\u001b[0m\n\u001b[1;32m    942\u001b[0m                 \u001b[1;34m'Cannot feed value of shape %r for Tensor %r, '\u001b[0m\u001b[1;33m\u001b[0m\u001b[0m\n\u001b[1;32m    943\u001b[0m                 \u001b[1;34m'which has shape %r'\u001b[0m\u001b[1;33m\u001b[0m\u001b[0m\n\u001b[0;32m--> 944\u001b[0;31m                 % (np_val.shape, subfeed_t.name, str(subfeed_t.get_shape())))\n\u001b[0m\u001b[1;32m    945\u001b[0m           \u001b[1;32mif\u001b[0m \u001b[1;32mnot\u001b[0m \u001b[0mself\u001b[0m\u001b[1;33m.\u001b[0m\u001b[0mgraph\u001b[0m\u001b[1;33m.\u001b[0m\u001b[0mis_feedable\u001b[0m\u001b[1;33m(\u001b[0m\u001b[0msubfeed_t\u001b[0m\u001b[1;33m)\u001b[0m\u001b[1;33m:\u001b[0m\u001b[1;33m\u001b[0m\u001b[0m\n\u001b[1;32m    946\u001b[0m             \u001b[1;32mraise\u001b[0m \u001b[0mValueError\u001b[0m\u001b[1;33m(\u001b[0m\u001b[1;34m'Tensor %s may not be fed.'\u001b[0m \u001b[1;33m%\u001b[0m \u001b[0msubfeed_t\u001b[0m\u001b[1;33m)\u001b[0m\u001b[1;33m\u001b[0m\u001b[0m\n",
      "\u001b[0;31mValueError\u001b[0m: Cannot feed value of shape (1, 1) for Tensor 'input:0', which has shape '(16, 16)'"
     ]
    }
   ],
   "source": [
    "gen_length = 100\n",
    "# homer_simpson, moe_szyslak, or Barney_Gumble\n",
    "prime_word = 'moe_szyslak'\n",
    "\n",
    "\"\"\"\n",
    "DON'T MODIFY ANYTHING IN THIS CELL THAT IS BELOW THIS LINE\n",
    "\"\"\"\n",
    "loaded_graph = tf.Graph()\n",
    "with tf.Session(graph=loaded_graph) as sess:\n",
    "    # Load saved model\n",
    "    loader = tf.train.import_meta_graph(load_dir + '.meta')\n",
    "    loader.restore(sess, load_dir)\n",
    "\n",
    "    # Get Tensors from loaded model\n",
    "    input_text, initial_state, final_state, probs = get_tensors(loaded_graph)\n",
    "\n",
    "    # Sentences generation setup\n",
    "    gen_sentences = [prime_word + ':']\n",
    "    prev_state = sess.run(initial_state, {input_text: np.array([[1]])})\n",
    "\n",
    "    # Generate sentences\n",
    "    for n in range(gen_length):\n",
    "        # Dynamic Input\n",
    "        dyn_input = [[vocab_to_int[word] for word in gen_sentences[-seq_length:]]]\n",
    "        dyn_seq_length = len(dyn_input[0])\n",
    "\n",
    "        # Get Prediction\n",
    "        probabilities, prev_state = sess.run(\n",
    "            [probs, final_state],\n",
    "            {input_text: dyn_input, initial_state: prev_state})\n",
    "        \n",
    "        pred_word = pick_word(probabilities[dyn_seq_length-1], int_to_vocab)\n",
    "\n",
    "        gen_sentences.append(pred_word)\n",
    "    \n",
    "    # Remove tokens\n",
    "    tv_script = ' '.join(gen_sentences)\n",
    "    for key, token in token_dict.items():\n",
    "        ending = ' ' if key in ['\\n', '(', '\"'] else ''\n",
    "        tv_script = tv_script.replace(' ' + token.lower(), key)\n",
    "    tv_script = tv_script.replace('\\n ', '\\n')\n",
    "    tv_script = tv_script.replace('( ', '(')\n",
    "        \n",
    "    print(tv_script)"
   ]
  },
  {
   "cell_type": "markdown",
   "metadata": {
    "deletable": true,
    "editable": true
   },
   "source": [
    "# The TV Script is Nonsensical\n",
    "It's ok if the TV script doesn't make any sense.  We trained on less than a megabyte of text.  In order to get good results, you'll have to use a smaller vocabulary or get more data.  Luckly there's more data!  As we mentioned in the begging of this project, this is a subset of [another dataset](https://www.kaggle.com/wcukierski/the-simpsons-by-the-data).  We didn't have you train on all the data, because that would take too long.  However, you are free to train your neural network on all the data.  After you complete the project, of course.\n",
    "# Submitting This Project\n",
    "When submitting this project, make sure to run all the cells before saving the notebook. Save the notebook file as \"dlnd_tv_script_generation.ipynb\" and save it as a HTML file under \"File\" -> \"Download as\". Include the \"helper.py\" and \"problem_unittests.py\" files in your submission."
   ]
  },
  {
   "cell_type": "code",
   "execution_count": null,
   "metadata": {
    "collapsed": true
   },
   "outputs": [],
   "source": []
  }
 ],
 "metadata": {
  "kernelspec": {
   "display_name": "Python 3",
   "language": "python",
   "name": "python3"
  },
  "language_info": {
   "codemirror_mode": {
    "name": "ipython",
    "version": 3
   },
   "file_extension": ".py",
   "mimetype": "text/x-python",
   "name": "python",
   "nbconvert_exporter": "python",
   "pygments_lexer": "ipython3",
   "version": "3.5.2"
  }
 },
 "nbformat": 4,
 "nbformat_minor": 0
}
